{
 "cells": [
  {
   "cell_type": "markdown",
   "metadata": {},
   "source": [
    "## Introduction\n",
    "\n",
    "In this code, you are simulating a 1D bar that is loaded under tensile loading conditions. The magnitude of the loading that the bar is subject to is determined by the applied displacement value (so displacement control is used). The schematic is presented below:\n",
    "\n",
    "![1D Bar](1d_bar.png)\n",
    "\n",
    "To make life easier, I have wrapped the FEM code in a function `run_experiment`. You need to give it some parameters:\n",
    "- `timesteps`: the number of timesteps used in the experiment.\n",
    "- `element_count`: the number of elements the mesh is discretised into.\n",
    "- `lengthscale_parameter`: the phase-field model parameter that determines the diffusion of damage around the crack. The smaller the parameter, the more resolved the crack, however, the size is also mesh-dependent, so be careful. Best practice is to use $l_0=2l_m$, where $l_m$ is the element size in the discretised mesh (the UQ value provided in the report uses $l_0=5l_m$, how does this impact the accuracy?).\n",
    "- `max_displacement` (**optional**, default=0.06): this is the maximum displacement that the structure will be displaced to.\n",
    "- `loading_directions` (**optional**, default=[0, 1]): this is the loading directions of the system. Specify the loading in fractions of `max_displacement`. It always needs to start with 0 (as the system starts at rest!). To put it simply, if you want to just load it from 0 to maximum displacement, keep it as [0, 1]. If you want to, for example, load $0\\text{mm}\\to0.1\\text{mm}\\to0.05\\text{mm}\\to0.1\\text{mm}$ with a `max_displacement` of 0.1mm, you would specify [0, 1, 0.5, 1]. \n",
    "- `domain` (**optional**, default=[0, 100]): specify the domain in terms of mm. As all of the experiments were done with the default domain, I recommend you do not change this.\n",
    "\n",
    "The outputs you can expect are:\n",
    "- `forces`: the applied force history array.\n",
    "- `positions`: the displaced node position history array.\n",
    "- `degradations`: the degradations at pinned node history array.\n",
    "- `max_displacement`: the maximum displacement the bar is subjected to.\n",
    "- `final_pf`: the final phase field profile array.\n",
    "- `fracture_energies`: the fracture energy history array.\n",
    "\n",
    "The material parameters for the structure are hardcoded. If you would like to investigate the effect of material parameters, feel free to extend the code in `run_fem.py`, lines 42-55."
   ]
  },
  {
   "cell_type": "markdown",
   "metadata": {},
   "source": [
    "## Sample code for batch simulation\n",
    "For your convenience, I have included some sample code which I used to produce results in batches for mesh convergence analysis, along with the code for producing the plots. Feel free to modify and use it."
   ]
  },
  {
   "cell_type": "code",
   "execution_count": null,
   "metadata": {},
   "outputs": [],
   "source": [
    "import numpy as np\n",
    "from run_fem import run_experiment\n",
    "\n",
    "timesteps = 1000\n",
    "lengthscale_parameter = 0.5\n",
    "\n",
    "element_counts = [100, 200, 500, 1000, 2000, 4000, 6000]\n",
    "\n",
    "results = {}\n",
    "for element_count in element_counts:\n",
    "    print(f\"Running experiment for {element_count} elements\")\n",
    "    forces, positions, degradations, max_displacement, final_pf, fracture_energies = (\n",
    "        run_experiment(\n",
    "            timesteps=timesteps, element_count=element_count, lengthscale_parameter=lengthscale_parameter\n",
    "        )\n",
    "    )\n",
    "    results[element_count] = {\n",
    "        \"force\": np.array(forces),\n",
    "        \"positions\": np.array(positions),\n",
    "        \"degradations\": np.array(degradations),\n",
    "        \"final_pf\": np.array(final_pf),\n",
    "        \"fracture_energy\": np.array(fracture_energies),\n",
    "    }"
   ]
  },
  {
   "cell_type": "code",
   "execution_count": null,
   "metadata": {},
   "outputs": [],
   "source": [
    "from matplotlib import pyplot as plt\n",
    "from mpl_toolkits.axes_grid1.inset_locator import inset_axes, mark_inset\n",
    "from matplotlib.ticker import FormatStrFormatter\n",
    "\n",
    "element_counts = list(results.keys())\n",
    "\n",
    "## Initialise main plot\n",
    "fig, ax = plt.subplots(1, 1, figsize=(6, 6))\n",
    "\n",
    "## Produce main plot\n",
    "for element_count in element_counts:\n",
    "    ax.plot(results[element_count][\"positions\"], results[element_count][\"force\"], label=f\"{element_count} elements\")\n",
    "\n",
    "ax.legend()\n",
    "ax.ticklabel_format(style='sci', axis='x', scilimits=(0,0));\n",
    "ax.set_xlabel(\"Displacement, mm\");\n",
    "ax.set_ylabel(\"Total Applied Force, kN\");\n",
    "ax.set_title(f\"Varying number of elements with \\n{timesteps} timesteps and $l_0={lengthscale_parameter}$mm\")\n",
    "\n",
    "## Initialise inset\n",
    "ax_inset = inset_axes(ax, width=\"40%\", height=\"40%\", loc='lower left', borderpad=5)\n",
    "\n",
    "## Format x-axis\n",
    "x_domain = np.array([5.02, 5.25]) * 1e-2\n",
    "ax_inset.set_xlim(x_domain)\n",
    "ax_inset.set_xticks(np.linspace(x_domain[0], x_domain[1], 3))\n",
    "\n",
    "## Format y-axis\n",
    "y_domain = np.array([0.022, 0.02372])\n",
    "ax_inset.set_ylim(y_domain)\n",
    "ax_inset.set_yticks(np.linspace(y_domain[0], y_domain[1], 3))\n",
    "\n",
    "## Format tick labels\n",
    "ax_inset.ticklabel_format(style='sci', axis='x', scilimits=(0,0))\n",
    "ax_inset.yaxis.set_major_formatter(FormatStrFormatter('%.4f'))\n",
    "\n",
    "## Plot inset\n",
    "for element_count in element_counts:\n",
    "    ax_inset.plot(results[element_count][\"positions\"], results[element_count][\"force\"])\n",
    "\n",
    "## Mark inset\n",
    "mark_inset(ax, ax_inset, loc1=2, loc2=4, fc=\"none\", ec=\"0.5\")\n",
    "\n",
    "## Save the plot\n",
    "plt.tight_layout()\n",
    "plt.savefig(\"figures/qs_1d_varied_mesh_fd.pdf\", format=\"pdf\")"
   ]
  }
 ],
 "metadata": {
  "kernelspec": {
   "display_name": ".venv",
   "language": "python",
   "name": "python3"
  },
  "language_info": {
   "codemirror_mode": {
    "name": "ipython",
    "version": 3
   },
   "file_extension": ".py",
   "mimetype": "text/x-python",
   "name": "python",
   "nbconvert_exporter": "python",
   "pygments_lexer": "ipython3",
   "version": "3.12.4"
  }
 },
 "nbformat": 4,
 "nbformat_minor": 2
}
